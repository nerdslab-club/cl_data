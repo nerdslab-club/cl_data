{
 "cells": [
  {
   "cell_type": "code",
   "execution_count": 1,
   "metadata": {
    "collapsed": true,
    "ExecuteTime": {
     "end_time": "2023-08-08T06:54:57.052808Z",
     "start_time": "2023-08-08T06:54:57.044609Z"
    }
   },
   "outputs": [
    {
     "name": "stdout",
     "output_type": "stream",
     "text": [
      "Input: This\n",
      "Output: is\n",
      "-----\n",
      "Input: This is\n",
      "Output: an\n",
      "-----\n",
      "Input: This is an\n",
      "Output: example\n",
      "-----\n",
      "Input: This is an example\n",
      "Output: paragraph.\n",
      "-----\n",
      "Input: It\n",
      "Output: contains\n",
      "-----\n",
      "Input: It contains\n",
      "Output: some\n",
      "-----\n",
      "Input: It contains some\n",
      "Output: text\n",
      "-----\n",
      "Input: It contains some text\n",
      "Output: that\n",
      "-----\n",
      "Input: It contains some text that\n",
      "Output: you\n",
      "-----\n",
      "Input: It contains some text that you\n",
      "Output: might\n",
      "-----\n",
      "Input: It contains some text that you might\n",
      "Output: find\n",
      "-----\n",
      "Input: It contains some text that you might find\n",
      "Output: interesting.\n",
      "-----\n",
      "Input: Feel\n",
      "Output: free\n",
      "-----\n",
      "Input: Feel free\n",
      "Output: to\n",
      "-----\n",
      "Input: Feel free to\n",
      "Output: use\n",
      "-----\n",
      "Input: Feel free to use\n",
      "Output: it\n",
      "-----\n",
      "Input: Feel free to use it\n",
      "Output: for\n",
      "-----\n",
      "Input: Feel free to use it for\n",
      "Output: training.\n",
      "-----\n"
     ]
    }
   ],
   "source": [
    "import re\n",
    "\n",
    "def generate_next_word_data(paragraph):\n",
    "    sentences = re.split(r'(?<=[.!?])\\s+', paragraph)  # Split paragraph into sentences\n",
    "    data = []\n",
    "\n",
    "    for sentence in sentences:\n",
    "        words = sentence.split()\n",
    "        for i in range(len(words) - 1):\n",
    "            input_text = \" \".join(words[:i+4])\n",
    "            output_text = words[i+4]\n",
    "            data.append({\"inputStr\": input_text, \"outputStr\": output_text})\n",
    "\n",
    "    return data\n",
    "\n",
    "# Example paragraph\n",
    "paragraph = \"This is an example paragraph. It contains some text that you might find interesting. Feel free to use it for training.\"\n",
    "\n",
    "# Generate the training data\n",
    "training_data = generate_next_word_data(paragraph)\n",
    "\n",
    "# Print the generated training data\n",
    "for example in training_data:\n",
    "    print(\"Input:\", example[\"inputStr\"])\n",
    "    print(\"Output:\", example[\"outputStr\"])\n",
    "    print(\"-----\")"
   ]
  },
  {
   "cell_type": "code",
   "execution_count": 2,
   "outputs": [
    {
     "name": "stdout",
     "output_type": "stream",
     "text": [
      "This is the first sentence.\n",
      "This is the second sentence.\n",
      "And here's the third sentence.\n"
     ]
    }
   ],
   "source": [
    "import spacy\n",
    "\n",
    "nlp = spacy.load(\"en_core_web_sm\")\n",
    "\n",
    "paragraph = \"This is the first sentence. This is the second sentence. And here's the third sentence.\"\n",
    "\n",
    "doc = nlp(paragraph)\n",
    "sentences = [sent.text for sent in doc.sents]\n",
    "for sentence in sentences:\n",
    "    print(sentence)\n"
   ],
   "metadata": {
    "collapsed": false,
    "ExecuteTime": {
     "end_time": "2023-08-08T07:18:40.691190Z",
     "start_time": "2023-08-08T07:18:40.093538Z"
    }
   }
  },
  {
   "cell_type": "code",
   "execution_count": null,
   "outputs": [],
   "source": [],
   "metadata": {
    "collapsed": false
   }
  }
 ],
 "metadata": {
  "kernelspec": {
   "display_name": "Python 3",
   "language": "python",
   "name": "python3"
  },
  "language_info": {
   "codemirror_mode": {
    "name": "ipython",
    "version": 2
   },
   "file_extension": ".py",
   "mimetype": "text/x-python",
   "name": "python",
   "nbconvert_exporter": "python",
   "pygments_lexer": "ipython2",
   "version": "2.7.6"
  }
 },
 "nbformat": 4,
 "nbformat_minor": 0
}
