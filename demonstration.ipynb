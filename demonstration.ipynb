{
 "cells": [
  {
   "cell_type": "code",
   "execution_count": 1,
   "metadata": {
    "collapsed": true,
    "ExecuteTime": {
     "end_time": "2023-08-08T15:53:55.621511Z",
     "start_time": "2023-08-08T15:53:52.750322Z"
    }
   },
   "outputs": [
    {
     "name": "stdout",
     "output_type": "stream",
     "text": [
      "[{'inputStr': 'This is a <MASK> input for testing masked <MASK> prediction.', 'outputStr': 'This is a sample input for testing masked token prediction.', 'inputMap': [{'token': 'This', 'category': {'type': 'word', 'subType': 'default', 'subSubType': 'none'}, 'position': 0}, {'token': 'is', 'category': {'type': 'word', 'subType': 'default', 'subSubType': 'none'}, 'position': 1}, {'token': 'a', 'category': {'type': 'word', 'subType': 'default', 'subSubType': 'none'}, 'position': 2}, {'token': '<MASK>', 'category': {'type': 'special', 'subType': 'word', 'subSubType': 'none'}, 'position': 3}, {'token': 'input', 'category': {'type': 'word', 'subType': 'default', 'subSubType': 'none'}, 'position': 4}, {'token': 'for', 'category': {'type': 'word', 'subType': 'default', 'subSubType': 'none'}, 'position': 5}, {'token': 'testing', 'category': {'type': 'word', 'subType': 'default', 'subSubType': 'none'}, 'position': 6}, {'token': 'masked', 'category': {'type': 'word', 'subType': 'default', 'subSubType': 'none'}, 'position': 7}, {'token': '<MASK>', 'category': {'type': 'special', 'subType': 'word', 'subSubType': 'none'}, 'position': 8}, {'token': 'prediction.', 'category': {'type': 'word', 'subType': 'default', 'subSubType': 'none'}, 'position': 9}], 'outputMap': [{'token': 'This', 'category': {'type': 'word', 'subType': 'default', 'subSubType': 'none'}, 'position': 0}, {'token': 'is', 'category': {'type': 'word', 'subType': 'default', 'subSubType': 'none'}, 'position': 1}, {'token': 'a', 'category': {'type': 'word', 'subType': 'default', 'subSubType': 'none'}, 'position': 2}, {'token': 'sample', 'category': {'type': 'word', 'subType': 'default', 'subSubType': 'none'}, 'position': 3}, {'token': 'input', 'category': {'type': 'word', 'subType': 'default', 'subSubType': 'none'}, 'position': 4}, {'token': 'for', 'category': {'type': 'word', 'subType': 'default', 'subSubType': 'none'}, 'position': 5}, {'token': 'testing', 'category': {'type': 'word', 'subType': 'default', 'subSubType': 'none'}, 'position': 6}, {'token': 'masked', 'category': {'type': 'word', 'subType': 'default', 'subSubType': 'none'}, 'position': 7}, {'token': 'token', 'category': {'type': 'word', 'subType': 'default', 'subSubType': 'none'}, 'position': 8}, {'token': 'prediction.', 'category': {'type': 'word', 'subType': 'default', 'subSubType': 'none'}, 'position': 9}], 'taskType': 'masked_token_prediction'}, {'inputStr': 'This is an example sentence for <MASK> next <MASK> prediction.', 'outputStr': 'This is an example sentence for testing next word prediction.', 'inputMap': [{'token': 'This', 'category': {'type': 'word', 'subType': 'default', 'subSubType': 'none'}, 'position': 0}, {'token': 'is', 'category': {'type': 'word', 'subType': 'default', 'subSubType': 'none'}, 'position': 1}, {'token': 'an', 'category': {'type': 'word', 'subType': 'default', 'subSubType': 'none'}, 'position': 2}, {'token': 'example', 'category': {'type': 'word', 'subType': 'default', 'subSubType': 'none'}, 'position': 3}, {'token': 'sentence', 'category': {'type': 'word', 'subType': 'default', 'subSubType': 'none'}, 'position': 4}, {'token': 'for', 'category': {'type': 'word', 'subType': 'default', 'subSubType': 'none'}, 'position': 5}, {'token': '<MASK>', 'category': {'type': 'special', 'subType': 'word', 'subSubType': 'none'}, 'position': 6}, {'token': 'next', 'category': {'type': 'word', 'subType': 'default', 'subSubType': 'none'}, 'position': 7}, {'token': '<MASK>', 'category': {'type': 'special', 'subType': 'word', 'subSubType': 'none'}, 'position': 8}, {'token': 'prediction.', 'category': {'type': 'word', 'subType': 'default', 'subSubType': 'none'}, 'position': 9}], 'outputMap': [{'token': 'This', 'category': {'type': 'word', 'subType': 'default', 'subSubType': 'none'}, 'position': 0}, {'token': 'is', 'category': {'type': 'word', 'subType': 'default', 'subSubType': 'none'}, 'position': 1}, {'token': 'an', 'category': {'type': 'word', 'subType': 'default', 'subSubType': 'none'}, 'position': 2}, {'token': 'example', 'category': {'type': 'word', 'subType': 'default', 'subSubType': 'none'}, 'position': 3}, {'token': 'sentence', 'category': {'type': 'word', 'subType': 'default', 'subSubType': 'none'}, 'position': 4}, {'token': 'for', 'category': {'type': 'word', 'subType': 'default', 'subSubType': 'none'}, 'position': 5}, {'token': 'testing', 'category': {'type': 'word', 'subType': 'default', 'subSubType': 'none'}, 'position': 6}, {'token': 'next', 'category': {'type': 'word', 'subType': 'default', 'subSubType': 'none'}, 'position': 7}, {'token': 'word', 'category': {'type': 'word', 'subType': 'default', 'subSubType': 'none'}, 'position': 8}, {'token': 'prediction.', 'category': {'type': 'word', 'subType': 'default', 'subSubType': 'none'}, 'position': 9}], 'taskType': 'masked_token_prediction'}]\n"
     ]
    }
   ],
   "source": [
    "from src.constants import PretrainTasks\n",
    "from src.utility import Utility\n",
    "from func_nl.f2n_sample_generator import F2NSamples\n",
    "\n",
    "\n",
    "# generator = F2NSamples()\n",
    "# print(generator.get_f2n_samples(2))\n",
    "# print(generator.get_next_random_f2n_sample())\n",
    "\n",
    "\n",
    "raw_input = (\n",
    "    \"This is a sample input for testing masked token prediction.\"\n",
    "    \"This is an example sentence for testing next word prediction.\"\n",
    ")\n",
    "\n",
    "masked_data = Utility.create_masked_input_output_example(raw_input)\n",
    "sample = Utility.create_sample_from_example(\n",
    "    masked_data, PretrainTasks.MASKED_TOKEN_PREDICTION\n",
    ")\n",
    "print(sample)"
   ]
  },
  {
   "cell_type": "code",
   "execution_count": 2,
   "outputs": [
    {
     "name": "stdout",
     "output_type": "stream",
     "text": [
      "Mask sample size: 271\n"
     ]
    }
   ],
   "source": [
    "from pretrain_data.masked_token_sample_generator import MaskedTokenSamplesGenerator\n",
    "\n",
    "mask_samples_generator = MaskedTokenSamplesGenerator()\n",
    "mask_samples = mask_samples_generator.get_masked_token_samples(1)\n",
    "# print(mask_samples)\n",
    "print(f\"Mask sample size: {len(mask_samples)}\")"
   ],
   "metadata": {
    "collapsed": false,
    "ExecuteTime": {
     "end_time": "2023-09-21T14:19:50.095919Z",
     "start_time": "2023-09-21T14:19:48.226301Z"
    }
   }
  },
  {
   "cell_type": "code",
   "execution_count": 3,
   "outputs": [
    {
     "name": "stdout",
     "output_type": "stream",
     "text": [
      "Next token sample size: 2849\n"
     ]
    }
   ],
   "source": [
    "from pretrain_data.next_token_sample_generator import NextTokenSamplesGenerator\n",
    "\n",
    "next_token_samples_generator = NextTokenSamplesGenerator()\n",
    "next_token_samples = next_token_samples_generator.get_next_token_samples(1)\n",
    "# print(next_token_samples)\n",
    "print(f\"Next token sample size: {len(next_token_samples)}\")"
   ],
   "metadata": {
    "collapsed": false,
    "ExecuteTime": {
     "end_time": "2023-09-21T14:19:59.823305Z",
     "start_time": "2023-09-21T14:19:56.159886Z"
    }
   }
  },
  {
   "cell_type": "code",
   "execution_count": null,
   "outputs": [],
   "source": [],
   "metadata": {
    "collapsed": false
   }
  }
 ],
 "metadata": {
  "kernelspec": {
   "display_name": "Python 3",
   "language": "python",
   "name": "python3"
  },
  "language_info": {
   "codemirror_mode": {
    "name": "ipython",
    "version": 2
   },
   "file_extension": ".py",
   "mimetype": "text/x-python",
   "name": "python",
   "nbconvert_exporter": "python",
   "pygments_lexer": "ipython2",
   "version": "2.7.6"
  }
 },
 "nbformat": 4,
 "nbformat_minor": 0
}
