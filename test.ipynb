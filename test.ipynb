{
 "cells": [
  {
   "cell_type": "code",
   "execution_count": 1,
   "metadata": {
    "collapsed": true,
    "ExecuteTime": {
     "end_time": "2023-08-08T15:53:55.621511Z",
     "start_time": "2023-08-08T15:53:52.750322Z"
    }
   },
   "outputs": [
    {
     "name": "stdout",
     "output_type": "stream",
     "text": [
      "[{'inputStr': 'This is a <MASK> input for testing masked <MASK> prediction.', 'outputStr': 'This is a sample input for testing masked token prediction.', 'inputMap': [{'token': 'This', 'category': {'type': 'word', 'subType': 'default', 'subSubType': 'none'}, 'position': 0}, {'token': 'is', 'category': {'type': 'word', 'subType': 'default', 'subSubType': 'none'}, 'position': 1}, {'token': 'a', 'category': {'type': 'word', 'subType': 'default', 'subSubType': 'none'}, 'position': 2}, {'token': '<MASK>', 'category': {'type': 'special', 'subType': 'word', 'subSubType': 'none'}, 'position': 3}, {'token': 'input', 'category': {'type': 'word', 'subType': 'default', 'subSubType': 'none'}, 'position': 4}, {'token': 'for', 'category': {'type': 'word', 'subType': 'default', 'subSubType': 'none'}, 'position': 5}, {'token': 'testing', 'category': {'type': 'word', 'subType': 'default', 'subSubType': 'none'}, 'position': 6}, {'token': 'masked', 'category': {'type': 'word', 'subType': 'default', 'subSubType': 'none'}, 'position': 7}, {'token': '<MASK>', 'category': {'type': 'special', 'subType': 'word', 'subSubType': 'none'}, 'position': 8}, {'token': 'prediction.', 'category': {'type': 'word', 'subType': 'default', 'subSubType': 'none'}, 'position': 9}], 'outputMap': [{'token': 'This', 'category': {'type': 'word', 'subType': 'default', 'subSubType': 'none'}, 'position': 0}, {'token': 'is', 'category': {'type': 'word', 'subType': 'default', 'subSubType': 'none'}, 'position': 1}, {'token': 'a', 'category': {'type': 'word', 'subType': 'default', 'subSubType': 'none'}, 'position': 2}, {'token': 'sample', 'category': {'type': 'word', 'subType': 'default', 'subSubType': 'none'}, 'position': 3}, {'token': 'input', 'category': {'type': 'word', 'subType': 'default', 'subSubType': 'none'}, 'position': 4}, {'token': 'for', 'category': {'type': 'word', 'subType': 'default', 'subSubType': 'none'}, 'position': 5}, {'token': 'testing', 'category': {'type': 'word', 'subType': 'default', 'subSubType': 'none'}, 'position': 6}, {'token': 'masked', 'category': {'type': 'word', 'subType': 'default', 'subSubType': 'none'}, 'position': 7}, {'token': 'token', 'category': {'type': 'word', 'subType': 'default', 'subSubType': 'none'}, 'position': 8}, {'token': 'prediction.', 'category': {'type': 'word', 'subType': 'default', 'subSubType': 'none'}, 'position': 9}], 'taskType': 'masked_token_prediction'}, {'inputStr': 'This is an example sentence for <MASK> next <MASK> prediction.', 'outputStr': 'This is an example sentence for testing next word prediction.', 'inputMap': [{'token': 'This', 'category': {'type': 'word', 'subType': 'default', 'subSubType': 'none'}, 'position': 0}, {'token': 'is', 'category': {'type': 'word', 'subType': 'default', 'subSubType': 'none'}, 'position': 1}, {'token': 'an', 'category': {'type': 'word', 'subType': 'default', 'subSubType': 'none'}, 'position': 2}, {'token': 'example', 'category': {'type': 'word', 'subType': 'default', 'subSubType': 'none'}, 'position': 3}, {'token': 'sentence', 'category': {'type': 'word', 'subType': 'default', 'subSubType': 'none'}, 'position': 4}, {'token': 'for', 'category': {'type': 'word', 'subType': 'default', 'subSubType': 'none'}, 'position': 5}, {'token': '<MASK>', 'category': {'type': 'special', 'subType': 'word', 'subSubType': 'none'}, 'position': 6}, {'token': 'next', 'category': {'type': 'word', 'subType': 'default', 'subSubType': 'none'}, 'position': 7}, {'token': '<MASK>', 'category': {'type': 'special', 'subType': 'word', 'subSubType': 'none'}, 'position': 8}, {'token': 'prediction.', 'category': {'type': 'word', 'subType': 'default', 'subSubType': 'none'}, 'position': 9}], 'outputMap': [{'token': 'This', 'category': {'type': 'word', 'subType': 'default', 'subSubType': 'none'}, 'position': 0}, {'token': 'is', 'category': {'type': 'word', 'subType': 'default', 'subSubType': 'none'}, 'position': 1}, {'token': 'an', 'category': {'type': 'word', 'subType': 'default', 'subSubType': 'none'}, 'position': 2}, {'token': 'example', 'category': {'type': 'word', 'subType': 'default', 'subSubType': 'none'}, 'position': 3}, {'token': 'sentence', 'category': {'type': 'word', 'subType': 'default', 'subSubType': 'none'}, 'position': 4}, {'token': 'for', 'category': {'type': 'word', 'subType': 'default', 'subSubType': 'none'}, 'position': 5}, {'token': 'testing', 'category': {'type': 'word', 'subType': 'default', 'subSubType': 'none'}, 'position': 6}, {'token': 'next', 'category': {'type': 'word', 'subType': 'default', 'subSubType': 'none'}, 'position': 7}, {'token': 'word', 'category': {'type': 'word', 'subType': 'default', 'subSubType': 'none'}, 'position': 8}, {'token': 'prediction.', 'category': {'type': 'word', 'subType': 'default', 'subSubType': 'none'}, 'position': 9}], 'taskType': 'masked_token_prediction'}]\n"
     ]
    }
   ],
   "source": [
    "from src.constants import PretrainTasks\n",
    "from src.utility import Utility\n",
    "from func_nl.f2n_sample_generator import F2NSamples\n",
    "\n",
    "\n",
    "# generator = F2NSamples()\n",
    "# print(generator.get_f2n_samples(2))\n",
    "# print(generator.get_next_random_f2n_sample())\n",
    "#\n",
    "\n",
    "\n",
    "raw_input = \"This is a sample input for testing masked token prediction.\" \\\n",
    "            \"This is an example sentence for testing next word prediction.\"\n",
    "\n",
    "masked_data = Utility.create_masked_input_output_example(raw_input)\n",
    "sample = Utility.create_sample_from_example(masked_data, PretrainTasks.MASKED_TOKEN_PREDICTION)\n",
    "print(sample)\n",
    "\n"
   ]
  },
  {
   "cell_type": "code",
   "execution_count": null,
   "outputs": [],
   "source": [],
   "metadata": {
    "collapsed": false
   }
  }
 ],
 "metadata": {
  "kernelspec": {
   "display_name": "Python 3",
   "language": "python",
   "name": "python3"
  },
  "language_info": {
   "codemirror_mode": {
    "name": "ipython",
    "version": 2
   },
   "file_extension": ".py",
   "mimetype": "text/x-python",
   "name": "python",
   "nbconvert_exporter": "python",
   "pygments_lexer": "ipython2",
   "version": "2.7.6"
  }
 },
 "nbformat": 4,
 "nbformat_minor": 0
}
